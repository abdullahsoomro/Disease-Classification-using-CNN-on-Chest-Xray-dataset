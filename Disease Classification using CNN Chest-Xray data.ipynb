{
  "nbformat": 4,
  "nbformat_minor": 0,
  "metadata": {
    "accelerator": "GPU",
    "colab": {
      "name": "Untitled28.ipynb",
      "provenance": [],
      "collapsed_sections": []
    },
    "kernelspec": {
      "display_name": "Python 3",
      "name": "python3"
    },
    "language_info": {
      "name": "python"
    }
  },
  "cells": [
    {
      "cell_type": "code",
      "metadata": {
        "colab": {
          "base_uri": "https://localhost:8080/"
        },
        "id": "QEbv76uinU2b",
        "outputId": "87069cd6-2c58-45d5-ae18-01d4a78b584c"
      },
      "source": [
        "from google.colab import drive\n",
        "drive.mount('/content/drive')"
      ],
      "execution_count": null,
      "outputs": [
        {
          "output_type": "stream",
          "text": [
            "Mounted at /content/drive\n"
          ],
          "name": "stdout"
        }
      ]
    },
    {
      "cell_type": "code",
      "metadata": {
        "id": "mBpC9nMekqYl"
      },
      "source": [
        "# Generel liberires\n",
        "import os \n",
        "import numpy as np\n",
        "import pandas as pd\n",
        "import random\n",
        "import cv2\n",
        "import matplotlib.pyplot as plt\n",
        "%matplotlib inline\n",
        "\n",
        "\n",
        "# deep lerning \n",
        "import tensorflow as tf\n",
        "from tensorflow import keras\n",
        "import keras.backend as k\n",
        "from keras.models import Model,Sequential,save_model,load_model\n",
        "from keras.layers import Input,Dense,Flatten,Dropout,BatchNormalization\n",
        "from keras.layers import Conv2D,SeparableConv2D,MaxPool2D,LeakyReLU,Activation\n",
        "from keras.optimizers import Adam\n",
        "from keras.preprocessing.image import ImageDataGenerator\n",
        "from keras.callbacks import ModelCheckpoint, ReduceLROnPlateau, EarlyStopping"
      ],
      "execution_count": null,
      "outputs": []
    },
    {
      "cell_type": "markdown",
      "metadata": {
        "id": "hZea6hq9q9DL"
      },
      "source": [
        "# New section"
      ]
    },
    {
      "cell_type": "code",
      "metadata": {
        "id": "7ok3DERQoXiI"
      },
      "source": [
        "input_path='/content/drive/MyDrive/dataset/chest_xray/'\n",
        "def process_data(img_dims, batch_size):\n",
        "  train_datagen = ImageDataGenerator(rescale=1./255, zoom_range=0.3, vertical_flip=True)\n",
        "  test_datagen = ImageDataGenerator(rescale=1./255)\n",
        "\n",
        "  train_set = train_datagen.flow_from_directory(\n",
        "  directory= input_path + \"train_set\",\n",
        "  target_size=(img_dims, img_dims),\n",
        "  batch_size=batch_size,\n",
        "  class_mode=\"binary\",\n",
        "  shuffle=True)\n",
        "  \n",
        "  val_set = test_datagen.flow_from_directory(\n",
        "  directory= input_path + \"val_set\",\n",
        "  target_size=(img_dims, img_dims),\n",
        "  batch_size=batch_size,\n",
        "  class_mode=\"binary\",\n",
        "  shuffle=True)\n",
        "   \n",
        "  test_set = train_datagen.flow_from_directory(\n",
        "  directory= input_path + \"test_set\",\n",
        "  target_size=(img_dims, img_dims),   \n",
        "  batch_size=batch_size,\n",
        "  class_mode=\"binary\",\n",
        "  shuffle=True)\n",
        "      \n",
        "  return train_set, val_set,test_set\n",
        "  "
      ],
      "execution_count": null,
      "outputs": []
    },
    {
      "cell_type": "code",
      "metadata": {
        "colab": {
          "base_uri": "https://localhost:8080/"
        },
        "id": "XD7kOUaxvcpj",
        "outputId": "0ac2fcf8-e56b-424e-eb7f-29ad3932fb8c"
      },
      "source": [
        " img_dims = 256\n",
        " epochs = 10\n",
        " batch_size = 32\n",
        "\n",
        "\n",
        "train_set, val_set, test_set = process_data(img_dims, batch_size)\n",
        "\n"
      ],
      "execution_count": null,
      "outputs": [
        {
          "output_type": "stream",
          "text": [
            "Found 5234 images belonging to 2 classes.\n",
            "Found 16 images belonging to 2 classes.\n",
            "Found 624 images belonging to 2 classes.\n"
          ],
          "name": "stdout"
        }
      ]
    },
    {
      "cell_type": "code",
      "metadata": {
        "id": "NvtFnm1Xwj0R"
      },
      "source": [
        "model = Sequential()\n",
        "\n",
        "model.add(Conv2D(32, (3, 3), activation='relu', input_shape=(img_dims, img_dims, 3)))\n",
        "model.add(MaxPool2D(pool_size=(2,2)))\n",
        "\n",
        "model.add(Conv2D(64, (3, 3), activation='relu'))\n",
        "model.add(BatchNormalization())\n",
        "model.add(MaxPool2D(pool_size=(2,2)))\n",
        "\n",
        "\n",
        "model.add(Conv2D(128, (3, 3), activation='relu'))\n",
        "model.add(BatchNormalization())\n",
        "model.add(MaxPool2D(pool_size=(2,2)))\n",
        "\n",
        "\n",
        "model.add(Conv2D(256, (3, 3), activation='relu'))\n",
        "model.add(BatchNormalization())\n",
        "model.add(MaxPool2D(pool_size=(2,2)))\n",
        "\n",
        "model.add(Conv2D(256, (3, 3), activation='relu'))\n",
        "model.add(BatchNormalization())\n",
        "model.add(MaxPool2D(pool_size=(2,2)))\n",
        "\n",
        "model.add(Flatten())\n",
        "\n",
        "model.add(Dense(units=512,activation='relu'))\n",
        "\n",
        "\n",
        "model.add(Dense(units=256,activation='relu'))\n",
        "\n",
        "\n",
        "model.add(Dense(units=1,activation='sigmoid'))\n",
        "model.compile(optimizer='adam', loss='binary_crossentropy', metrics=['accuracy'])\n"
      ],
      "execution_count": null,
      "outputs": []
    },
    {
      "cell_type": "code",
      "metadata": {
        "colab": {
          "base_uri": "https://localhost:8080/"
        },
        "id": "SnurnoRd1tXk",
        "outputId": "b99cd36e-3a7b-41c2-82b3-7621101d5ba8"
      },
      "source": [
        "model.summary()"
      ],
      "execution_count": null,
      "outputs": [
        {
          "output_type": "stream",
          "text": [
            "Model: \"sequential\"\n",
            "_________________________________________________________________\n",
            "Layer (type)                 Output Shape              Param #   \n",
            "=================================================================\n",
            "conv2d (Conv2D)              (None, 254, 254, 32)      896       \n",
            "_________________________________________________________________\n",
            "max_pooling2d (MaxPooling2D) (None, 127, 127, 32)      0         \n",
            "_________________________________________________________________\n",
            "conv2d_1 (Conv2D)            (None, 125, 125, 64)      18496     \n",
            "_________________________________________________________________\n",
            "batch_normalization (BatchNo (None, 125, 125, 64)      256       \n",
            "_________________________________________________________________\n",
            "max_pooling2d_1 (MaxPooling2 (None, 62, 62, 64)        0         \n",
            "_________________________________________________________________\n",
            "conv2d_2 (Conv2D)            (None, 60, 60, 128)       73856     \n",
            "_________________________________________________________________\n",
            "batch_normalization_1 (Batch (None, 60, 60, 128)       512       \n",
            "_________________________________________________________________\n",
            "max_pooling2d_2 (MaxPooling2 (None, 30, 30, 128)       0         \n",
            "_________________________________________________________________\n",
            "conv2d_3 (Conv2D)            (None, 28, 28, 256)       295168    \n",
            "_________________________________________________________________\n",
            "batch_normalization_2 (Batch (None, 28, 28, 256)       1024      \n",
            "_________________________________________________________________\n",
            "max_pooling2d_3 (MaxPooling2 (None, 14, 14, 256)       0         \n",
            "_________________________________________________________________\n",
            "conv2d_4 (Conv2D)            (None, 12, 12, 256)       590080    \n",
            "_________________________________________________________________\n",
            "batch_normalization_3 (Batch (None, 12, 12, 256)       1024      \n",
            "_________________________________________________________________\n",
            "max_pooling2d_4 (MaxPooling2 (None, 6, 6, 256)         0         \n",
            "_________________________________________________________________\n",
            "flatten (Flatten)            (None, 9216)              0         \n",
            "_________________________________________________________________\n",
            "dense (Dense)                (None, 512)               4719104   \n",
            "_________________________________________________________________\n",
            "dense_1 (Dense)              (None, 256)               131328    \n",
            "_________________________________________________________________\n",
            "dense_2 (Dense)              (None, 1)                 257       \n",
            "=================================================================\n",
            "Total params: 5,832,001\n",
            "Trainable params: 5,830,593\n",
            "Non-trainable params: 1,408\n",
            "_________________________________________________________________\n"
          ],
          "name": "stdout"
        }
      ]
    },
    {
      "cell_type": "code",
      "metadata": {
        "id": "Qp35LNl-KLH2"
      },
      "source": [
        "lr_reduce = ReduceLROnPlateau(monitor=\"val_loss\", factor=0.3, patience=1, verbose=2,mode=\"max\")"
      ],
      "execution_count": null,
      "outputs": []
    },
    {
      "cell_type": "code",
      "metadata": {
        "colab": {
          "base_uri": "https://localhost:8080/"
        },
        "id": "Buq5ZolwNZLh",
        "outputId": "ab6c6804-6b62-44be-eb41-7551a10b8490"
      },
      "source": [
        "history = model.fit_generator(train_set,\n",
        "                              steps_per_epoch = train_set.samples//batch_size,\n",
        "                              epochs=epochs,\n",
        "                              validation_data = test_set,\n",
        "                              validation_steps = test_set.samples//batch_size,callbacks=[lr_reduce])"
      ],
      "execution_count": null,
      "outputs": [
        {
          "output_type": "stream",
          "text": [
            "/usr/local/lib/python3.7/dist-packages/keras/engine/training.py:1915: UserWarning: `Model.fit_generator` is deprecated and will be removed in a future version. Please use `Model.fit`, which supports generators.\n",
            "  warnings.warn('`Model.fit_generator` is deprecated and '\n"
          ],
          "name": "stderr"
        },
        {
          "output_type": "stream",
          "text": [
            "Epoch 1/10\n",
            "163/163 [==============================] - 2330s 14s/step - loss: 0.6654 - accuracy: 0.8302 - val_loss: 3.0925 - val_accuracy: 0.6250\n",
            "Epoch 2/10\n",
            "163/163 [==============================] - 130s 796ms/step - loss: 0.2222 - accuracy: 0.9148 - val_loss: 2.1135 - val_accuracy: 0.6299\n",
            "\n",
            "Epoch 00002: ReduceLROnPlateau reducing learning rate to 0.0003000000142492354.\n",
            "Epoch 3/10\n",
            "163/163 [==============================] - 130s 796ms/step - loss: 0.1608 - accuracy: 0.9429 - val_loss: 2.1093 - val_accuracy: 0.6266\n",
            "\n",
            "Epoch 00003: ReduceLROnPlateau reducing learning rate to 9.000000427477062e-05.\n",
            "Epoch 4/10\n",
            "163/163 [==============================] - 130s 798ms/step - loss: 0.1340 - accuracy: 0.9469 - val_loss: 0.3267 - val_accuracy: 0.8388\n",
            "\n",
            "Epoch 00004: ReduceLROnPlateau reducing learning rate to 2.700000040931627e-05.\n",
            "Epoch 5/10\n",
            "163/163 [==============================] - 129s 790ms/step - loss: 0.1254 - accuracy: 0.9500 - val_loss: 0.5897 - val_accuracy: 0.8322\n",
            "\n",
            "Epoch 00005: ReduceLROnPlateau reducing learning rate to 8.100000013655517e-06.\n",
            "Epoch 6/10\n",
            "163/163 [==============================] - 129s 789ms/step - loss: 0.1148 - accuracy: 0.9612 - val_loss: 0.4602 - val_accuracy: 0.8454\n",
            "\n",
            "Epoch 00006: ReduceLROnPlateau reducing learning rate to 2.429999949526973e-06.\n",
            "Epoch 7/10\n",
            "163/163 [==============================] - 129s 791ms/step - loss: 0.1281 - accuracy: 0.9543 - val_loss: 0.4195 - val_accuracy: 0.8668\n",
            "\n",
            "Epoch 00007: ReduceLROnPlateau reducing learning rate to 7.289999985005124e-07.\n",
            "Epoch 8/10\n",
            "163/163 [==============================] - 128s 784ms/step - loss: 0.1149 - accuracy: 0.9604 - val_loss: 0.3880 - val_accuracy: 0.8701\n",
            "\n",
            "Epoch 00008: ReduceLROnPlateau reducing learning rate to 2.1870000637136398e-07.\n",
            "Epoch 9/10\n",
            "163/163 [==============================] - 128s 785ms/step - loss: 0.1198 - accuracy: 0.9565 - val_loss: 0.3809 - val_accuracy: 0.8651\n",
            "\n",
            "Epoch 00009: ReduceLROnPlateau reducing learning rate to 6.561000276406048e-08.\n",
            "Epoch 10/10\n",
            " 15/163 [=>............................] - ETA: 1:43 - loss: 0.1027 - accuracy: 0.9561"
          ],
          "name": "stdout"
        }
      ]
    },
    {
      "cell_type": "code",
      "metadata": {
        "id": "AaxomEK9-sZC",
        "colab": {
          "base_uri": "https://localhost:8080/",
          "height": 295
        },
        "outputId": "1283984d-2921-4337-aa60-3c20524671a1"
      },
      "source": [
        "plt.plot(history.history[\"accuracy\"])\n",
        "plt.plot(history.history[\"val_accuracy\"])\n",
        "plt.title(\"model accuracy\")\n",
        "plt.ylabel(\"accuracy\")\n",
        "plt.xlabel(\"Epoch\")\n",
        "plt.legend([\"Training set\",  \"Validation set \"], loc=\"upper left\" )\n",
        "plt.show()"
      ],
      "execution_count": null,
      "outputs": [
        {
          "output_type": "display_data",
          "data": {
            "image/png": "[encoded data removed]",
            "text/plain": [
              "<Figure size 432x288 with 1 Axes>"
            ]
          },
          "metadata": {
            "tags": [],
            "needs_background": "light"
          }
        }
      ]
    },
    {
      "cell_type": "code",
      "metadata": {
        "id": "CabRWh-dBvem",
        "colab": {
          "base_uri": "https://localhost:8080/",
          "height": 295
        },
        "outputId": "69202f24-f27b-4bfd-a2ac-7b2f178578a9"
      },
      "source": [
        "plt.plot(history.history[\"val_loss\"])\n",
        "plt.plot(history.history[\"loss\"])\n",
        "plt.title(\"model loss\")\n",
        "plt.ylabel(\"loss\")\n",
        "plt.xlabel(\"Epoch\")\n",
        "plt.legend([\"Training set\",  \"Test set \"], loc=\"upper left\" )\n",
        "plt.show()"
      ],
      "execution_count": null,
      "outputs": [
        {
          "output_type": "display_data",
          "data": {
            "image/png": "[encoded data removed]",
            "text/plain": [
              "<Figure size 432x288 with 1 Axes>"
            ]
          },
          "metadata": {
            "tags": [],
            "needs_background": "light"
          }
        }
      ]
    },
    {
      "cell_type": "code",
      "metadata": {
        "id": "u2iKi3ByIiTV"
      },
      "source": [
        "test_set_data = []\n",
        "test_labels = []\n",
        "for cond in [\"/NORMAL/\", \"/PNEUMONIA/\"]:\n",
        "  for img in (os.listdir(input_path + \"test_set\" + cond)):\n",
        "      img = plt.imread(input_path+\"test_set\"+cond+img)\n",
        "      img = cv2.resize(img,(img_dims,img_dims))\n",
        "      img = np.dstack([img, img, img])\n",
        "      img = img.astype(\"float32\")/255\n",
        "      if cond==\"/NORMAL/\":\n",
        "         label = 0\n",
        "      elif cond==\"/PNEUMONIA/\":\n",
        "         label = 1\n",
        "      test_set_data.append(img)\n",
        "      test_labels.append(label)\n",
        "test_set_data = np.array(test_set_data)\n",
        "test_labels = np.array(test_labels)"
      ],
      "execution_count": null,
      "outputs": []
    },
    {
      "cell_type": "code",
      "metadata": {
        "id": "I3OvPkGXBMcL",
        "colab": {
          "base_uri": "https://localhost:8080/"
        },
        "outputId": "7b6f3d59-aca4-4d1d-b64a-12b257ef2c3e"
      },
      "source": [
        "from sklearn.metrics import classification_report, accuracy_score, confusion_matrix\n",
        "preds = model.predict(test_set_data)\n",
        "\n",
        "acc = accuracy_score(test_labels, np.round(preds))*100\n",
        "cm = confusion_matrix(test_labels, np.round(preds))\n",
        "tn, fp, fn, tp = cm.ravel()\n",
        "\n",
        "\n",
        "print(\"CONFUSION MATRIX............\")\n",
        "print(cm)\n",
        "\n",
        "print(\"/n TEST METRICS..................\")\n",
        "\n",
        "precision = tp/(tp+fp)*100\n",
        "recall = tp/(tp+fn)*100\n",
        "sensitivity = tn/(tn+fp)\n",
        "print(\"Accuracy : {}%\".format(acc))\n",
        "print(\"precision : {}%\".format(precision))\n",
        "print(\"REcall : {}%\".format(recall))\n",
        "\n",
        "print(\"F1 score : {}%\".format(2*precision*recall/(precision+recall)))\n",
        "\n",
        "print(\"\\nTRAIN METRIC.................\")\n",
        "print(\"Train acc : {}\". format(np.round((history.history[\"accuracy\"][-1])*100, 2)))\n",
        "\n",
        "\n",
        "\n"
      ],
      "execution_count": null,
      "outputs": [
        {
          "output_type": "stream",
          "text": [
            "CONFUSION MATRIX............\n",
            "[[188  46]\n",
            " [ 11 379]]\n",
            "/n TEST METRICS..................\n",
            "Accuracy : 90.86538461538461%\n",
            "precision : 89.17647058823529%\n",
            "REcall : 97.17948717948718%\n",
            "F1 score : 93.00613496932515%\n",
            "\n",
            "TRAIN METRIC.................\n",
            "Train acc : 95.67\n"
          ],
          "name": "stdout"
        }
      ]
    },
    {
      "cell_type": "code",
      "metadata": {
        "colab": {
          "base_uri": "https://localhost:8080/"
        },
        "id": "6mUIM8HauJNm",
        "outputId": "00f54cdd-4ba4-4802-8ada-de54987c01e9"
      },
      "source": [
        "print(classification_report(test_labels, np.round(preds), target_names=[\"NORMAL\", \"phneumina\"]))"
      ],
      "execution_count": null,
      "outputs": [
        {
          "output_type": "stream",
          "text": [
            "              precision    recall  f1-score   support\n",
            "\n",
            "      NORMAL       0.94      0.80      0.87       234\n",
            "   phneumina       0.89      0.97      0.93       390\n",
            "\n",
            "    accuracy                           0.91       624\n",
            "   macro avg       0.92      0.89      0.90       624\n",
            "weighted avg       0.91      0.91      0.91       624\n",
            "\n"
          ],
          "name": "stdout"
        }
      ]
    },
    {
      "cell_type": "code",
      "metadata": {
        "id": "Pr9clwQYu5Zz",
        "colab": {
          "base_uri": "https://localhost:8080/",
          "height": 519
        },
        "outputId": "a9755168-ca9b-47a9-a9b5-2f92bc1e4a2b"
      },
      "source": [
        "from mlxtend.plotting import plot_confusion_matrix\n",
        "plt.figure()\n",
        "plot_confusion_matrix(cm, figsize=(12,8), hide_ticks=True,cmap=plt.cm.Blues)\n",
        "plt.xticks(range(2), [\"NORMAL\" , \"PNEUMONIA\"], fontsize=16)\n",
        "plt.yticks(range(2), [\"NORMAL\" , \"PNEUMONIA\"], fontsize=16)\n",
        "plt.show()\n",
        "\n",
        "\n"
      ],
      "execution_count": null,
      "outputs": [
        {
          "output_type": "display_data",
          "data": {
            "text/plain": [
              "<Figure size 432x288 with 0 Axes>"
            ]
          },
          "metadata": {
            "tags": []
          }
        },
        {
          "output_type": "display_data",
          "data": {
            "image/png": "[encoded data removed]",
            "text/plain": [
              "<Figure size 864x576 with 1 Axes>"
            ]
          },
          "metadata": {
            "tags": [],
            "needs_background": "light"
          }
        }
      ]
    },
    {
      "cell_type": "code",
      "metadata": {
        "id": "mSKsc649xd-T"
      },
      "source": [
        "from keras.models import save_model\n",
        "filepath =\"./91.5_model.h5\"\n",
        "save_model(model, filepath)"
      ],
      "execution_count": null,
      "outputs": []
    },
    {
      "cell_type": "code",
      "metadata": {
        "id": "_oSArNDGySFn",
        "colab": {
          "base_uri": "https://localhost:8080/",
          "height": 34
        },
        "outputId": "3608f21a-04a2-409d-d36f-29c460477aa6"
      },
      "source": [
        "from google.colab import files\n",
        "files.download(\"/content/91.5_model.h5\")"
      ],
      "execution_count": null,
      "outputs": [
        {
          "output_type": "display_data",
          "data": {
            "application/javascript": [
              "\n",
              "    async function download(id, filename, size) {\n",
              "      if (!google.colab.kernel.accessAllowed) {\n",
              "        return;\n",
              "      }\n",
              "      const div = document.createElement('div');\n",
              "      const label = document.createElement('label');\n",
              "      label.textContent = `Downloading \"${filename}\": `;\n",
              "      div.appendChild(label);\n",
              "      const progress = document.createElement('progress');\n",
              "      progress.max = size;\n",
              "      div.appendChild(progress);\n",
              "      document.body.appendChild(div);\n",
              "\n",
              "      const buffers = [];\n",
              "      let downloaded = 0;\n",
              "\n",
              "      const channel = await google.colab.kernel.comms.open(id);\n",
              "      // Send a message to notify the kernel that we're ready.\n",
              "      channel.send({})\n",
              "\n",
              "      for await (const message of channel.messages) {\n",
              "        // Send a message to notify the kernel that we're ready.\n",
              "        channel.send({})\n",
              "        if (message.buffers) {\n",
              "          for (const buffer of message.buffers) {\n",
              "            buffers.push(buffer);\n",
              "            downloaded += buffer.byteLength;\n",
              "            progress.value = downloaded;\n",
              "          }\n",
              "        }\n",
              "      }\n",
              "      const blob = new Blob(buffers, {type: 'application/binary'});\n",
              "      const a = document.createElement('a');\n",
              "      a.href = window.URL.createObjectURL(blob);\n",
              "      a.download = filename;\n",
              "      div.appendChild(a);\n",
              "      a.click();\n",
              "      div.remove();\n",
              "    }\n",
              "  "
            ],
            "text/plain": [
              "<IPython.core.display.Javascript object>"
            ]
          },
          "metadata": {
            "tags": []
          }
        },
        {
          "output_type": "display_data",
          "data": {
            "application/javascript": [
              "download(\"download_8844d87c-8545-432f-a715-c5d67760415f\", \"91.5_model.h5\", 70090344)"
            ],
            "text/plain": [
              "<IPython.core.display.Javascript object>"
            ]
          },
          "metadata": {
            "tags": []
          }
        }
      ]
    }
  ]
}